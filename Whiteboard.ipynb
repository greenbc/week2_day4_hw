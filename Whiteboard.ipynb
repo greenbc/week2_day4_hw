{
 "cells": [
  {
   "cell_type": "markdown",
   "metadata": {},
   "source": [
    "Write a function that will remove all vowels from a given string. The function should return a string.\n",
    "Example:\n",
    "Input: 'Joel'\n",
    "Output: 'Jl'"
   ]
  },
  {
   "cell_type": "code",
   "execution_count": 12,
   "metadata": {},
   "outputs": [
    {
     "data": {
      "text/plain": [
       "'Jl'"
      ]
     },
     "execution_count": 12,
     "metadata": {},
     "output_type": "execute_result"
    }
   ],
   "source": [
    "def remove_vowels(string):\n",
    "    new_string= string\n",
    "    vowels = ['a','e','i','o','u']\n",
    "    for x in new_string.lower():\n",
    "        if x in vowels:\n",
    "            new_string = new_string.replace(x,\"\")\n",
    "    return new_string\n",
    "\n",
    "remove_vowels(\"Joel\")"
   ]
  }
 ],
 "metadata": {
  "kernelspec": {
   "display_name": "Python 3",
   "language": "python",
   "name": "python3"
  },
  "language_info": {
   "codemirror_mode": {
    "name": "ipython",
    "version": 3
   },
   "file_extension": ".py",
   "mimetype": "text/x-python",
   "name": "python",
   "nbconvert_exporter": "python",
   "pygments_lexer": "ipython3",
   "version": "3.7.1"
  }
 },
 "nbformat": 4,
 "nbformat_minor": 2
}
